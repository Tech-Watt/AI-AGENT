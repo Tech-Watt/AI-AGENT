{
 "cells": [
  {
   "cell_type": "code",
   "execution_count": 8,
   "metadata": {},
   "outputs": [],
   "source": [
    "from crewai import Agent,Crew,Process,Task \n",
    "from langchain_openai.chat_models import ChatOpenAI\n",
    "from dotenv import load_dotenv \n",
    "import os"
   ]
  },
  {
   "cell_type": "code",
   "execution_count": 9,
   "metadata": {},
   "outputs": [],
   "source": [
    "load_dotenv()\n",
    "api_key = os.getenv('OPENAI_API_KEY')\n",
    "Model = 'gpt-3.5-turbo'\n",
    "llm = ChatOpenAI(api_key = api_key, model = Model)"
   ]
  },
  {
   "cell_type": "code",
   "execution_count": 10,
   "metadata": {},
   "outputs": [
    {
     "data": {
      "text/plain": [
       "AIMessage(content='An AI agent is a system or program that is capable of autonomously performing tasks or making decisions based on artificial intelligence algorithms. AI agents can be designed to act in a variety of environments, such as in a virtual world, on the internet, or in physical spaces. They can be used for a wide range of applications, including customer service, data analysis, autonomous vehicles, and more.', response_metadata={'token_usage': {'completion_tokens': 78, 'prompt_tokens': 11, 'total_tokens': 89}, 'model_name': 'gpt-3.5-turbo', 'system_fingerprint': 'fp_3b956da36b', 'finish_reason': 'stop', 'logprobs': None}, id='run-a7d523aa-f410-4cde-92e9-44ae1bb5da0d-0')"
      ]
     },
     "execution_count": 10,
     "metadata": {},
     "output_type": "execute_result"
    }
   ],
   "source": [
    "llm.invoke('What is AI agent')"
   ]
  },
  {
   "cell_type": "code",
   "execution_count": 11,
   "metadata": {},
   "outputs": [],
   "source": [
    "blogpost_agent = Agent(\n",
    "    role = 'Blog post writer',\n",
    "\n",
    "    goal = \"\"\"\n",
    "            You will write a proffessional and more technical \n",
    "            blogpost based on a given topic.\n",
    "         \"\"\",\n",
    "\n",
    "        backstory = \"\"\" \n",
    "                You are a very professional and technical AI assistant blog post \n",
    "                writer. You write a very catchy and professional blog post based on\n",
    "                a given topic and you're so reliable that you don't make things up.\n",
    "        \"\"\",\n",
    "        llm = llm,\n",
    "        verbose = True,\n",
    "        allow_delegation = False,\n",
    ")"
   ]
  },
  {
   "cell_type": "code",
   "execution_count": 15,
   "metadata": {},
   "outputs": [],
   "source": [
    "summarizer_agent = Agent(\n",
    "    role = 'Blog post Summarizer',\n",
    "\n",
    "    goal = \"\"\"\n",
    "            You will summarize blog post and make it very easy\n",
    "            for everyone to understand.\n",
    "            .\n",
    "         \"\"\",\n",
    "\n",
    "    backstory = \"\"\" \n",
    "                You are a very professional and technical AI assistant blog post \n",
    "                summarizer.You always summarizer blogpost making easy for everyone\n",
    "                to understand.\n",
    "        \"\"\",\n",
    "    verbose = True,\n",
    "    allow_delegation = False,\n",
    "    llm = llm\n",
    ")"
   ]
  },
  {
   "cell_type": "code",
   "execution_count": 12,
   "metadata": {},
   "outputs": [],
   "source": [
    "blogpost_task = Task(\n",
    "  description = \"I need a very detail blog post about Applications of AI\",  \n",
    "  agent = blogpost_agent,\n",
    "  expected_output = 'Well documented blog post'\n",
    ")"
   ]
  },
  {
   "cell_type": "code",
   "execution_count": 17,
   "metadata": {},
   "outputs": [],
   "source": [
    "summarizer_task = Task(\n",
    "   description = \"Summarize a blog post\",\n",
    "   agent = summarizer_agent,\n",
    "   expected_output = 'well summarized blog post'\n",
    "   )"
   ]
  },
  {
   "cell_type": "code",
   "execution_count": 18,
   "metadata": {},
   "outputs": [
    {
     "name": "stderr",
     "output_type": "stream",
     "text": [
      "2024-04-27 18:41:41,465 - 20532 - __init__.py-__init__:518 - WARNING: Overriding of current TracerProvider is not allowed\n"
     ]
    }
   ],
   "source": [
    "crew = Crew(\n",
    "    agents = [blogpost_agent,summarizer_agent],\n",
    "    tasks = [blogpost_task,summarizer_task],\n",
    "    process = Process.sequential\n",
    ")"
   ]
  },
  {
   "cell_type": "code",
   "execution_count": 19,
   "metadata": {},
   "outputs": [
    {
     "name": "stdout",
     "output_type": "stream",
     "text": [
      "\n",
      "\n",
      "\u001b[1m> Entering new CrewAgentExecutor chain...\u001b[0m\n"
     ]
    },
    {
     "name": "stdout",
     "output_type": "stream",
     "text": [
      "\u001b[32;1m\u001b[1;3mI now can give a great answer\n",
      "\n",
      "Final Answer:\n",
      "In recent years, the applications of Artificial Intelligence (AI) have grown exponentially, revolutionizing various industries and sectors. AI technologies are being used to streamline processes, improve efficiency, and enhance decision-making in a wide range of applications. In this blog post, we will explore the diverse applications of AI and how they are shaping the future of technology.\n",
      "\n",
      "1. Healthcare:\n",
      "AI is transforming the healthcare industry by enabling faster and more accurate diagnosis, personalized treatment plans, and predictive analytics. Machine learning algorithms are being utilized to analyze medical images, predict patient outcomes, and identify high-risk individuals. AI-powered chatbots are also being used to provide round-the-clock medical assistance and support.\n",
      "\n",
      "2. Finance:\n",
      "In the financial sector, AI is being used for fraud detection, risk assessment, algorithmic trading, and customer service. Chatbots and virtual assistants powered by AI are helping customers with their queries and providing personalized recommendations. AI algorithms are also being used to analyze market trends and make data-driven investment decisions.\n",
      "\n",
      "3. Marketing:\n",
      "AI is revolutionizing the field of marketing by enabling targeted advertising, personalized content recommendations, and customer segmentation. Machine learning algorithms analyze customer data to predict buying behavior and optimize marketing campaigns. AI-powered chatbots are also being used to engage with customers in real-time and provide personalized recommendations.\n",
      "\n",
      "4. Transportation:\n",
      "AI is playing a crucial role in the transportation industry by enabling autonomous vehicles, traffic management systems, and predictive maintenance. Self-driving cars use AI algorithms to navigate roads, avoid obstacles, and make real-time decisions. AI-powered systems are also being used to optimize traffic flow, reduce congestion, and improve overall transportation efficiency.\n",
      "\n",
      "5. Retail:\n",
      "In the retail sector, AI is being used to enhance the shopping experience, optimize inventory management, and personalize customer interactions. AI algorithms analyze customer data to predict buying patterns, recommend products, and tailor marketing strategies. AI-powered chatbots assist customers with their queries and provide real-time support.\n",
      "\n",
      "6. Education:\n",
      "AI technologies are being used to personalize learning experiences, assess student performance, and provide adaptive learning solutions. Machine learning algorithms analyze student data to identify learning gaps, recommend personalized study plans, and track progress over time. AI-powered tutoring systems are also being used to provide additional support and guidance to students.\n",
      "\n",
      "In conclusion, the applications of AI are vast and varied, impacting almost every industry and sector in today's digital age. From healthcare to finance, marketing to transportation, AI technologies are transforming the way we live and work. As AI continues to evolve and advance, the possibilities for innovation and growth are endless. It is clear that AI is here to stay and will continue to shape the future of technology in profound ways.\u001b[0m\n",
      "\n",
      "\u001b[1m> Finished chain.\u001b[0m\n",
      "\n",
      "\n",
      "\u001b[1m> Entering new CrewAgentExecutor chain...\u001b[0m\n",
      "\u001b[32;1m\u001b[1;3mI now can give a great answer\n",
      "\n",
      "Final Answer:\n",
      "In recent years, the applications of Artificial Intelligence (AI) have grown exponentially, revolutionizing various industries and sectors. AI technologies are being used to streamline processes, improve efficiency, and enhance decision-making in a wide range of applications. In this blog post, we explored the diverse applications of AI and how they are shaping the future of technology in healthcare, finance, marketing, transportation, retail, and education. AI is transforming healthcare by enabling faster diagnosis and personalized treatment plans. In finance, AI is used for fraud detection and personalized recommendations. In marketing, AI enables targeted advertising and customer segmentation. In transportation, AI plays a crucial role in autonomous vehicles and traffic management. In retail, AI enhances the shopping experience and optimizes inventory management. In education, AI personalizes learning experiences and provides adaptive learning solutions. Overall, AI is impacting almost every industry in today's digital age and will continue to shape the future of technology.\u001b[0m\n",
      "\n",
      "\u001b[1m> Finished chain.\u001b[0m\n"
     ]
    },
    {
     "data": {
      "text/plain": [
       "\"In recent years, the applications of Artificial Intelligence (AI) have grown exponentially, revolutionizing various industries and sectors. AI technologies are being used to streamline processes, improve efficiency, and enhance decision-making in a wide range of applications. In this blog post, we explored the diverse applications of AI and how they are shaping the future of technology in healthcare, finance, marketing, transportation, retail, and education. AI is transforming healthcare by enabling faster diagnosis and personalized treatment plans. In finance, AI is used for fraud detection and personalized recommendations. In marketing, AI enables targeted advertising and customer segmentation. In transportation, AI plays a crucial role in autonomous vehicles and traffic management. In retail, AI enhances the shopping experience and optimizes inventory management. In education, AI personalizes learning experiences and provides adaptive learning solutions. Overall, AI is impacting almost every industry in today's digital age and will continue to shape the future of technology.\""
      ]
     },
     "execution_count": 19,
     "metadata": {},
     "output_type": "execute_result"
    }
   ],
   "source": [
    "result = crew.kickoff()\n",
    "result"
   ]
  },
  {
   "cell_type": "code",
   "execution_count": 20,
   "metadata": {},
   "outputs": [],
   "source": [
    "with open('blog.txt','w') as f:\n",
    "    f.write(result)\n",
    "    f.close()"
   ]
  }
 ],
 "metadata": {
  "language_info": {
   "name": "python"
  }
 },
 "nbformat": 4,
 "nbformat_minor": 2
}
